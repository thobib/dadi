{
  "nbformat": 4,
  "nbformat_minor": 0,
  "metadata": {
    "colab": {
      "name": "ARTour_GoogleColab.ipynb",
      "provenance": [],
      "collapsed_sections": []
    },
    "kernelspec": {
      "name": "python3",
      "display_name": "Python 3"
    },
    "language_info": {
      "name": "python"
    },
    "accelerator": "GPU"
  },
  "cells": [
    {
      "cell_type": "code",
      "execution_count": null,
      "metadata": {
        "id": "CbIBxjICcOSi"
      },
      "outputs": [],
      "source": [
        "!pip install rasa==1.10.3"
      ]
    },
    {
      "cell_type": "code",
      "source": [
        "!python -m spacy download en"
      ],
      "metadata": {
        "id": "PBBYcOYecYd4"
      },
      "execution_count": null,
      "outputs": []
    },
    {
      "cell_type": "code",
      "source": [
        "!pip install nest_asyncio==1.3.3"
      ],
      "metadata": {
        "id": "QaKmk3JkcxTC"
      },
      "execution_count": null,
      "outputs": []
    },
    {
      "cell_type": "code",
      "source": [
        "import os\n",
        "import rasa\n",
        "import nest_asyncio\n",
        "from rasa.cli.scaffold import create_initial_project \n",
        "from rasa.jupyter import chat\n",
        "\n",
        "nest_asyncio.apply()\n",
        "print(\"event loop ready\")"
      ],
      "metadata": {
        "colab": {
          "base_uri": "https://localhost:8080/"
        },
        "id": "j6qTwPg9dMNd",
        "outputId": "5a8fb310-3e74-4d90-e88e-a145562a785f"
      },
      "execution_count": 4,
      "outputs": [
        {
          "output_type": "stream",
          "name": "stdout",
          "text": [
            "event loop ready\n"
          ]
        }
      ]
    },
    {
      "cell_type": "code",
      "source": [
        "project = 'ARTour project'\n",
        "create_initial_project(project)"
      ],
      "metadata": {
        "id": "2ztVV0fPdoKp"
      },
      "execution_count": 5,
      "outputs": []
    },
    {
      "cell_type": "code",
      "source": [
        "os.chdir(project)\n",
        "print(os.listdir(\".\"))"
      ],
      "metadata": {
        "colab": {
          "base_uri": "https://localhost:8080/"
        },
        "id": "VXDhq4HQd0nw",
        "outputId": "1994dfd5-8fae-4dc7-f4cc-b9ecd9ac6d57"
      },
      "execution_count": 6,
      "outputs": [
        {
          "output_type": "stream",
          "name": "stdout",
          "text": [
            "['__pycache__', 'actions.py', 'credentials.yml', 'config.yml', '__init__.py', 'data', 'endpoints.yml', 'tests', 'domain.yml']\n"
          ]
        }
      ]
    },
    {
      "cell_type": "code",
      "source": [
        "config = \"config.yml\"\n",
        "training_file = \"data/\"\n",
        "domain = 'domain.yml'\n",
        "output = 'models/'\n",
        "\n",
        "print(config, training_file, domain, output)"
      ],
      "metadata": {
        "colab": {
          "base_uri": "https://localhost:8080/"
        },
        "id": "s3o9Gs6leR-i",
        "outputId": "2606424c-97c8-4a96-c786-820f20312c35"
      },
      "execution_count": 7,
      "outputs": [
        {
          "output_type": "stream",
          "name": "stdout",
          "text": [
            "config.yml data/ domain.yml models/\n"
          ]
        }
      ]
    },
    {
      "cell_type": "code",
      "source": [
        "%%writefile data/nlu.md\n",
        "\n",
        "## intent: greet\n",
        "- assalamu'alaikum\n",
        "- assalamualaikum\n",
        "- halo\n",
        "- hiii\n",
        "- helo\n",
        "- punten\n",
        "- horas\n",
        "- selamat pagi\n",
        "- selamat siang\n",
        "- selamat sore\n",
        "- selamat malam\n",
        "- hey\n",
        "- hello\n",
        "- hi\n",
        "- salam\n",
        "- halo yang disana\n",
        "- hai artour\n",
        "- p\n",
        "- P\n",
        "- /start \n",
        "\n",
        "## intent: kabar\n",
        "- apa kabar?\n",
        "- bagaimana kabarmu?\n",
        "- gimana kabarnya?\n",
        "- apa harimu baik? \n",
        "- bagaimana harimu\n",
        "- apa harimu menyenangkan\n",
        "- kabarmu baik?\n",
        "\n",
        "## intent: bantuan\n",
        "- mau tanya dong?\n",
        "- bantuin dong?\n",
        "- mau info \n",
        "- artour\n",
        "- jadi gini\n",
        "\n",
        "## intent: affirm\n",
        "- yes\n",
        "- y\n",
        "- oke\n",
        "- baik\n",
        "- menarik\n",
        "- wah\n",
        "- asik\n",
        "- sudah\n",
        "- siap\n",
        "- wkwkwk\n",
        "- hahaha\n",
        "- sip\n",
        "- ahaaa\n",
        "- bagus\n",
        "- okeoke\n",
        "- ya\n",
        "- makasih\n",
        "- suka\n",
        "- hehe\n",
        "- okke siyap alhamdulillah !\n",
        "\n",
        "## intent: deny\n",
        "- no\n",
        "- n\n",
        "- nggak\n",
        "- engga\n",
        "- ngga\n",
        "- belum\n",
        "- maaf\n",
        "- gamau\n",
        "- tidak\n",
        "- nggak suka\n",
        "- terimakasih\n",
        "- sedih\n",
        "- lah\n",
        "- yah\n",
        "- aduh\n",
        "- ih mahal\n",
        "- mahal \n",
        "- jangan\n",
        "\n",
        "## intent: candi\n",
        "- candi prambanan adalah\n",
        "- apa itu candi prambanan? \n",
        "- candi prambanan merupakan \n",
        "- candi prambanan?\n",
        "- candi prambanan ialah\n",
        "- pengertian candi prambanan\n",
        "- informasi candi prambana\n",
        "- tentang candi prambanan\n",
        "- apa yang bagus di candi \n",
        "- hal menarik dari prambanan\n",
        "\n",
        "## intent: lingkungan_candi\n",
        "- lingkungan sekitar candi\n",
        "- zona candi\n",
        "- nama candi di prambanan\n",
        "- kompleks candi prambanan?\n",
        "- apa saja candi di prambanan?\n",
        "- ada apa saja di dalam candi prambanan?\n",
        "- di dalam candi ada apa saja?\n",
        "\n",
        "## intent: lokasi\n",
        "- Candi Prambanan letaknya dimana?\n",
        "- alamat candi prambanan?\n",
        "- lokasi candi dimana?\n",
        "- dimana tepatnya tempat candi prambanan?\n",
        "- dimana\n",
        "- lokasi alamat candi\n",
        "\n",
        "## intent: waktu\n",
        "- Waktu buka Candi Prambanan?\n",
        "- kapan candi sudah buka?\n",
        "- jadwal buka candi \n",
        "- jam buka candi\n",
        "- sekarang sudah buka belum?\n",
        "\n",
        "## intent: tiket\n",
        "- karcis paket\n",
        "- harga tiket terusan\n",
        "- harga tiket mancanegara\n",
        "- tiket lokal\n",
        "- tiket masuk anak\n",
        "- biaya masuk\n",
        "- diskon masuk\n",
        "- tarif masuk candi\n",
        "- tiket masuk prambanan\n",
        "\n",
        "## intent: akomodasi_kendaraan_pribadi\n",
        "- bagaimana cara menuju candi prambanan\n",
        "- naik sepeda ke candi\n",
        "- ke prambanan boncengan\n",
        "- ke prambanan pake motor\n",
        "- naik truk\n",
        "- cara ke prambanan naik becak\n",
        "- naik kendaraan pribadi menuju candi\n",
        "- gimana cara ke prambanan dengan kendaraan pribadi?\n",
        "- cara ke prambanan pake kendaraan darat\n",
        "- bagaimana cara ke prambanan dengan mobil pribadi?\n",
        "- cara ke prambanan dengan mobil sendiri?\n",
        "\n",
        "## intent: akomodasi_bus\n",
        "- naik bis kota ke prambanan\n",
        "- TJ\n",
        "- trans jogja\n",
        "- naik bis\n",
        "- bus kota\n",
        "- bagaimana cara ke prambanan naik bus?\n",
        "- bagaimana cara ke prambanan dengan bus?\n",
        "- cara ke prambanan pakai bus?\n",
        "- cara menuju candi naik bus?\n",
        "\n",
        "## intent: akomodasi_kereta_api\n",
        "- ke prambanan dari stasiun tugu\n",
        "- mau ke prambanan dari stasiun lempuyangan\n",
        "- dari stasiun\n",
        "- ke prambanan dari stasiun\n",
        "- dari kereta\n",
        "- dari stasiun yogyakarta ke prambanan\n",
        "- bagaimana cara ke prambanan dari stasiun?\n",
        "- bagaimana cara ke prambanan dengan kereta?\n",
        "\n",
        "## intent: akomodasi_pesawat\n",
        "- dari bandara\n",
        "- Yogyakarta International Airport  Kulon Progo ke prambanan?\n",
        "- gimana cara ke prambanan dari bandara yogyakarta?\n",
        "- dari pesawat\n",
        "- dari bandara yogyakarta ke candi?\n",
        "- cara ke prambanan dari YIA ?\n",
        "- bagaimana cara ke prambanan dari bandara?\n",
        "- menuju prambanan dari bandara naik pesawat?\n",
        "\n",
        "## intent: kuliner\n",
        "- makan dimana\n",
        "- resto apa\n",
        "- restoran terdekat\n",
        "- makan siang enak\n",
        "- tempat nongkrong\n",
        "- makan siang\n",
        "- rekomendasi tempat makan dekat prambanan\n",
        "- rekomendasi kuliner prambanan\n",
        "- kuliner di sekitar prambanan?\n",
        "- makanan enak di prambanan\n",
        "- khas jajanan candi prambanan\n",
        "- makanan favorit di candi\n",
        "- apa sih makanan khas candi prambanan?\n",
        "- aku laper \n",
        "- lapar pengin makan\n",
        "\n",
        "## intent: sourvenir\n",
        "- Apa saja oleh oleh candi prambanan?\n",
        "- Buah tangan Candi Prambanan?\n",
        "- cendera mata khas candi\n",
        "- apa yang khas dari candi prambanan\n",
        "- cinderamata candi prambanan\n",
        "- Apa saja oleh-oleh dari Prambanan?\n",
        "- Kalo souvenir ada apa aja?\n",
        "- Mau supenir dong\n",
        "\n",
        "## intent: covid\n",
        "- bagaimana protokol covid disana\n",
        "- apa disana masih pandemi\n",
        "- prosedur pengunjung saat covid\n",
        "- area covid saat ini \n",
        "- protokol kesehatan\n",
        "- kondisi saat pandemi covid\n",
        "\n",
        "## intent: bot_challenge\n",
        "- siapa kamu?\n",
        "- apa kamu manusia?\n",
        "- kamu robot apa?\n",
        "- apa kamu bisa bicara?\n",
        "- siapa namamu\n",
        "- kau siapa\n",
        "\n",
        "# ## intent: Artourist\n",
        "# - namaku [hanin](nama)\n",
        "# - saya [levina](nama)\n",
        "# - [hizkia](nama)\n",
        "# - aku [dimas](nama)\n",
        "# - panggil saja [arif](nama)\n",
        "# - halo, aku [habib](nama)\n",
        "\n",
        "## intent: goodbye\n",
        "- dadah\n",
        "- cu\n",
        "- selamat tinggal\n",
        "- sampai jumpa\n",
        "- bye\n",
        "- goodbye\n",
        "- cukup\n",
        "- keluar\n",
        "- daadaaaah"
      ],
      "metadata": {
        "colab": {
          "base_uri": "https://localhost:8080/"
        },
        "id": "6zf_dwpSIN9y",
        "outputId": "5326cadc-8683-4de5-95c7-70b1dcdce69c"
      },
      "execution_count": 17,
      "outputs": [
        {
          "output_type": "stream",
          "name": "stdout",
          "text": [
            "Overwriting data/nlu.md\n"
          ]
        }
      ]
    },
    {
      "cell_type": "code",
      "source": [
        "%%writefile data/stories.md\n",
        "\n",
        "## path conversation\n",
        "* greet\n",
        "  - utter_greet\n",
        "* kabar\n",
        "  - utter_kabar\n",
        "  - utter_bantuan\n",
        "* affirm\n",
        "  - utter_affirm\n",
        "* deny\n",
        "  - utter_deny\n",
        "* bantuan\n",
        "  - utter_bantuan\n",
        "* candi\n",
        "  - utter_candi\n",
        "* lingkungan_candi\n",
        "  - utter_lingkungan_candi\n",
        "* lokasi\n",
        "  - utter_lokasi\n",
        "* waktu\n",
        "  - utter_waktu\n",
        "*  tiket\n",
        "  - utter_tiket\n",
        "* akomodasi_kendaraan_pribadi\n",
        "  - utter_kendaraan_pribadi\n",
        "* akomodasi_bus\n",
        "  - utter_bus\n",
        "* akomodasi_kereta_api\n",
        "  - utter_kereta_api\n",
        "* akomodasi_pesawat\n",
        "  - utter_pesawat\n",
        "* kuliner\n",
        "  - utter_kuliner\n",
        "* sourvenir\n",
        "  - utter_sourvenir\n",
        "* covid\n",
        "  - utter_covid\n",
        "* bot_challenge\n",
        "  - utter_iamabot\n",
        "# * Artourist\n",
        "#   - utter_ask_nama\n",
        "* goodbye\n",
        "  - utter_goodbye"
      ],
      "metadata": {
        "colab": {
          "base_uri": "https://localhost:8080/"
        },
        "id": "AE7-EycYP_sj",
        "outputId": "7ffebad2-f1c4-455e-d360-2262ddd22df9"
      },
      "execution_count": 18,
      "outputs": [
        {
          "output_type": "stream",
          "name": "stdout",
          "text": [
            "Overwriting data/stories.md\n"
          ]
        }
      ]
    },
    {
      "cell_type": "code",
      "source": [
        "%%writefile domain.yml\n",
        "\n",
        "# entities:\n",
        "# - nama\n",
        "\n",
        "# slots:\n",
        "#   nama:\n",
        "#     type: text\n",
        "#     influence_conversation: true\n",
        "#     mappings:\n",
        "#     - type: from_entity\n",
        "#       entity: nama\n",
        "\n",
        "intents:\n",
        "  - greet\n",
        "  - kabar\n",
        "  - bantuan\n",
        "  - affirm\n",
        "  - deny\n",
        "  - candi\n",
        "  - lingkungan_candi\n",
        "  - lokasi\n",
        "  - waktu\n",
        "  - tiket\n",
        "  - akomodasi_kendaraan_pribadi\n",
        "  - akomodasi_bus\n",
        "  - akomodasi_kereta_api\n",
        "  - akomodasi_pesawat\n",
        "  - kuliner\n",
        "  - sourvenir\n",
        "  - covid\n",
        "  - bot_challenge\n",
        "  # - Artourist\n",
        "  - goodbye\n",
        "\n",
        "responses:\n",
        "\n",
        "  utter_greet:\n",
        "  - text: \"Selamat datang, Artourist!\"\n",
        "\n",
        "  utter_kabar:\n",
        "  - text: \"Kabar ARTour sangat baik ^^\"\n",
        "\n",
        "  utter_affirm:\n",
        "  - text: \"siyap Artourist\"\n",
        "  - text: \"hehehe\"\n",
        "  - text: \"mantap kan . . .\"\n",
        "  - text: \"Oke siap\"\n",
        "\n",
        "  utter_deny:\n",
        "  - text: \"baik tidak apa-apa\"\n",
        "  - text: \"tidak apa\"\n",
        "  - text: \"ada masalah Artourist?\"\n",
        "  - text: \"mungkin lain kali yaa\"\n",
        "\n",
        "  utter_bantuan:\n",
        "  - text: \"Ada yang bisa dibantu?\"\n",
        "\n",
        "  utter_candi:\n",
        "  - text: \"Candi Prambanan adalah termasuk Situs Warisan Dunia UNESCO, candi Hindu terbesar di Indonesia, sekaligus salah satu candi terindah di Asia Tenggara.\"\n",
        "    image: \"https://blog.reservasi.com/wp-content/uploads/2016/09/candi-prambanan-reservasi.jpg\"\n",
        "\n",
        "  utter_lingkungan_candi:\n",
        "  - text: \"Kompleks candi Prambanan terdiri atas tiga zona; pertama adalah zona luar, kedua adalah zona tengah yang terdiri atas ratusan candi, ketiga adalah zona dalam yang merupakan zona tersuci tempat delapan candi utama dan delapan kuil kecil.\"\n",
        "\n",
        "  utter_lokasi:\n",
        "  - text: \"Lokasi Candi Prambanan : Jl. Raya Solo - Yogyakarta No.16, Kranggan, Bokoharjo, Kec. Prambanan, Kabupaten Sleman, Daerah Istimewa Yogyakarta 55571.\"\n",
        "\n",
        "  utter_waktu:\n",
        "  - text: \"Jam buka candi mulai pukul 06.00-17.00 WIB\"\n",
        "\n",
        "  utter_tiket:\n",
        "  - text: \"Berwisata di Candi Prambanan Yogyakarta tidak akan menguras biaya banyak. Harga tiket mulai dari Rp 25.000 - Rp 75.000 cukup terjangkau dengan fasilitas yang baik.\"\n",
        "\n",
        "  utter_kendaraan_pribadi:\n",
        "  - text: \"Menuju Prambanan menggunakan kendaraan pribadi tidaklah sulit. Cukup melalui jalan raya Solo - Yogya yang bisa diakses dari jalan lingkar luar Yogya atau dari dalam kota Yogya melalui jalan Laksda Adisutjipto. Candi Prambanan terletak di km 16 jalan raya Solo - Yogya sebelah utara jalan.\"\n",
        "\n",
        "  utter_bus:\n",
        "  - text: \"Bus Transjogja yang melayani rute Prambanan hanya jalur 1A. Anda bisa menaiki bus ini dari Halte Mangkubumi dekat Stasiun Kereta Api Tugu Yogyakarta dan Malioboro.\"\n",
        "  - text: \"Jika anda berangkat dari area sekitar Terminal Bus Giwangan, Anda dapat langsung menggunakan bus jalur 1A dari terminal atau menggunakan bus antar kota jurusan Solo.\"\n",
        "\n",
        "  utter_kereta_api:\n",
        "  - text: \"Menuju Candi Prambanan juga bisa dilakukan dengan tranportasi umum kereta api (KA). Salah satunya Prambanan Ekspres (Prameks). Beberapa rangkaian Prameks ada yang berhenti di Stasiun Brambanan. Dari sini, wisatawan tinggal jalan kaki sejauh kurang lebih 1 km menuju Candi Prambanan.\"\n",
        "\n",
        "  utter_pesawat:\n",
        "  - text: \"Pengunjung luar daerah Yogyakarta yang ingin berpariwisata ke Candi Prambanan lewat jalur udara bisa berhenti di Bandar Udara Internasional Yogyakarta atau Yogyakarta International Airport (YIA) di Kulon Progo. Setelah itu bisa memilih menggunakan taksi, transjogja, KA prameks atau ojek online.\"\n",
        "\n",
        "  utter_kuliner:\n",
        "  - text: \"Ada banyak sekali rekomendasi makanan disekitar wilayah candi prambanan, misalnya gudeg, nasi liwet dan angkringan.\"\n",
        "\n",
        "  utter_sourvenir:\n",
        "  - text: \"Batik Candi Prambanan merupakan salah satu jenis cendera mata yang sangat pas Anda jadikan sebagai buah tangan untuk orang tersayang.\"\n",
        "  - text: \"Salah satu souvenir khas Candi Prambanan yaitu kaos khas Candi Prambanan. Anda bisa mendapatkannya di pelataran sekitar Candi Prambanan.\"\n",
        "  - text: \"Souvenir dari Candi Prambanan unik yang bisa Anda beli yaitu miniatur khas Candi Prambanan.\"\n",
        "  - text: \"Buah tangan di Candi Prambanan berupa gantungan kunci, miniatur candi Hindu hingga beragam benda unik lainnya.\"\n",
        "\n",
        "  utter_covid:\n",
        "  - text: \"Para pengunjung wajib : Menerapkan Protokol CHSE (Cleanliness, Health, Safety, Environment) bagi pengunjung, karyawan, dan seniman. Pengunjung wajib mengenakan masker, mejaga jarak serta mematuhi protokol kesehatan yang telah disediakan.\"\n",
        "  \n",
        "  utter_iamabot:\n",
        "  - text: \"Panggil saja aku Artour. Terimakasih sudah bertanya, salam kenal :D\"\n",
        "  \n",
        "  # utter_ask_nama:\n",
        "  # - text: \"Senang berkenalan denganmu {nama}\"\n",
        "  # - text: \"Senang bertemu denganmu {nama}\"\n",
        "  # - text: \"Salam kenal {nama}\"\n",
        "\n",
        "  utter_goodbye:\n",
        "  - text: \"Sampai jumpa di Candi Prambanan ARTourist :)\"\n",
        "\n",
        "session_config:\n",
        "  session_expiration_time: 60\n",
        "  carry_over_slots_to_new_session: true"
      ],
      "metadata": {
        "colab": {
          "base_uri": "https://localhost:8080/"
        },
        "id": "H0v0nB2aPk5x",
        "outputId": "f474f220-ea3b-48fc-bc38-9c5e868e48cc"
      },
      "execution_count": 19,
      "outputs": [
        {
          "output_type": "stream",
          "name": "stdout",
          "text": [
            "Overwriting domain.yml\n"
          ]
        }
      ]
    },
    {
      "cell_type": "code",
      "source": [
        "model_path = rasa.train(domain, config, [training_file], output)\n",
        "print(model_path)"
      ],
      "metadata": {
        "colab": {
          "base_uri": "https://localhost:8080/"
        },
        "id": "n9hbuqgyeU5w",
        "outputId": "f4cd9efe-b608-41a0-9847-003b8d05aa13"
      },
      "execution_count": 21,
      "outputs": [
        {
          "output_type": "stream",
          "name": "stdout",
          "text": [
            "\u001b[94mTraining Core model...\u001b[0m\n"
          ]
        },
        {
          "output_type": "stream",
          "name": "stderr",
          "text": [
            "Processed Story Blocks: 100%|██████████| 2/2 [00:00<00:00, 213.78it/s, # trackers=1]\n",
            "Processed Story Blocks: 100%|██████████| 2/2 [00:00<00:00, 241.74it/s, # trackers=2]\n",
            "Processed Story Blocks: 100%|██████████| 2/2 [00:00<00:00, 160.43it/s, # trackers=4]\n",
            "Processed Story Blocks: 100%|██████████| 2/2 [00:00<00:00, 119.93it/s, # trackers=6]\n",
            "Processed trackers: 100%|██████████| 2/2 [00:00<00:00, 21.20it/s, # actions=40]\n",
            "Processed actions: 40it [00:00, 475.13it/s, # examples=40]\n",
            "Processed trackers: 100%|██████████| 25/25 [00:02<00:00, 11.22it/s, # actions=60]\n",
            "Epochs:   0%|          | 0/100 [00:00<?, ?it/s]/usr/local/lib/python3.7/dist-packages/rasa/utils/tensorflow/model_data.py:386: VisibleDeprecationWarning: Creating an ndarray from ragged nested sequences (which is a list-or-tuple of lists-or-tuples-or ndarrays with different lengths or shapes) is deprecated. If you meant to do this, you must specify 'dtype=object' when creating the ndarray\n",
            "  final_data[k].append(np.concatenate(np.array(v)))\n",
            "Epochs: 100%|██████████| 100/100 [00:11<00:00,  8.79it/s, t_loss=0.479, loss=0.380, acc=0.984]\n"
          ]
        },
        {
          "output_type": "stream",
          "name": "stdout",
          "text": [
            "\u001b[94mCore model training completed.\u001b[0m\n",
            "\u001b[94mTraining NLU model...\u001b[0m\n"
          ]
        },
        {
          "output_type": "stream",
          "name": "stderr",
          "text": [
            "\u001b[93m/usr/local/lib/python3.7/dist-packages/rasa/utils/common.py:363: UserWarning: You specified 'DIET' to train entities, but no entities are present in the training data. Skip training of entities.\n",
            "Epochs:   0%|          | 0/100 [00:00<?, ?it/s]/usr/local/lib/python3.7/dist-packages/rasa/utils/tensorflow/model_data.py:386: VisibleDeprecationWarning: Creating an ndarray from ragged nested sequences (which is a list-or-tuple of lists-or-tuples-or ndarrays with different lengths or shapes) is deprecated. If you meant to do this, you must specify 'dtype=object' when creating the ndarray\n",
            "  final_data[k].append(np.concatenate(np.array(v)))\n",
            "Epochs: 100%|██████████| 100/100 [00:14<00:00,  6.80it/s, t_loss=2.241, i_loss=0.346, i_acc=1.000]\n"
          ]
        },
        {
          "output_type": "stream",
          "name": "stdout",
          "text": [
            "\u001b[94mNLU model training completed.\u001b[0m\n",
            "\u001b[92mYour Rasa model is trained and saved at '/content/ARTour project/models/20211227-075236.tar.gz'.\u001b[0m\n",
            "models/20211227-075236.tar.gz\n"
          ]
        }
      ]
    },
    {
      "cell_type": "code",
      "source": [
        "endpoints = 'endpoints.yml'\n",
        "chat(model_path, endpoints)"
      ],
      "metadata": {
        "id": "ZnU7Q-0AfUsJ",
        "colab": {
          "base_uri": "https://localhost:8080/"
        },
        "outputId": "38d9d752-cbcc-49bc-bc59-d2c904b74b86"
      },
      "execution_count": 22,
      "outputs": [
        {
          "name": "stdout",
          "output_type": "stream",
          "text": [
            "Your bot is ready to talk! Type your messages here or send '/stop'.\n",
            "hi\n",
            "\u001b[92mSelamat datang, Artourist!\u001b[0m\n",
            "/stop\n"
          ]
        }
      ]
    }
  ]
}